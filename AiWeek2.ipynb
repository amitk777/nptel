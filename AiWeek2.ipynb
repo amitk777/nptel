{
 "cells": [
  {
   "cell_type": "code",
   "execution_count": 20,
   "id": "3bd89ce0-1b16-460d-b0d9-0ca3f701c938",
   "metadata": {},
   "outputs": [
    {
     "data": {
      "text/plain": [
       "['A', 'B', 'D']"
      ]
     },
     "execution_count": 20,
     "metadata": {},
     "output_type": "execute_result"
    }
   ],
   "source": [
    "# Create a dictionary with 11 elements, each pointing to an array of 3 capital alphabet variables\n",
    "\n",
    "def movegen(node):\n",
    "    graph = {\n",
    "        'S': ['A', 'B', 'D'],\n",
    "        'A': ['C', 'B', 'S'],\n",
    "        'B': ['S', 'A', 'C'],\n",
    "        'C': ['B', 'A'],\n",
    "        'D': ['S', 'G'],\n",
    "        'G': ['D']\n",
    "    }\n",
    "    \n",
    "    return graph[node[0]]\n",
    "\n",
    "node = ['S',None]\n",
    "\n",
    "movegen(node)\n"
   ]
  },
  {
   "cell_type": "code",
   "execution_count": 53,
   "id": "9acfd68c-c802-426f-be0f-0fa384be1f7e",
   "metadata": {
    "tags": []
   },
   "outputs": [],
   "source": [
    "class open:\n",
    "    def __init__(self):\n",
    "        self.items = []\n",
    "        self.visited = []\n",
    "\n",
    "    def is_empty(self):\n",
    "        return len(self.items) == 0\n",
    "\n",
    "    def push(self, item):\n",
    "        if item not in self.items:  # Check if item is not already in the stack\n",
    "            # self.items.append(item)\n",
    "            self.items.insert(0,item)\n",
    "            self.visited.insert(0,item[0])\n",
    "\n",
    "    def pop(self):\n",
    "        if not self.is_empty():\n",
    "            return self.items.pop()\n",
    "        else:\n",
    "            raise Exception(\"Stack is empty\")\n",
    "\n",
    "    def peek(self):\n",
    "        if not self.is_empty():\n",
    "            return self.items[-1]\n",
    "        else:\n",
    "            raise Exception(\"Stack is empty\")\n",
    "\n",
    "    def size(self):\n",
    "        return len(self.items)\n",
    "    \n",
    "    def clear(self):\n",
    "        self.items = []\n",
    "        self.visited = []\n",
    "        \n",
    "    def show(self):\n",
    "        print(self.items)\n",
    "        \n",
    "    def visited(self):\n",
    "        return self.visited\n",
    "    \n",
    "    def check_visited(self,target):\n",
    "        return target in self.visited\n",
    "\n",
    "\n",
    "# Create a stack\n",
    "OPEN = open()\n",
    "OPEN.clear()\n",
    "\n",
    "\n"
   ]
  },
  {
   "cell_type": "code",
   "execution_count": 12,
   "id": "a4797e36-e799-433c-9c34-a3c0ab03722e",
   "metadata": {
    "tags": []
   },
   "outputs": [
    {
     "name": "stdout",
     "output_type": "stream",
     "text": [
      "[['B', 'A'], ['C', 'A'], ['D', 'A'], ['E', 'A']]\n"
     ]
    }
   ],
   "source": [
    "def create_pairs(parent, children):\n",
    "    pairs = [[child, parent] for child in children]\n",
    "    return pairs\n",
    "\n",
    "# Example usage\n",
    "parent_alphabet = 'A'\n",
    "child_alphabets = ['B', 'C', 'D', 'E']\n",
    "\n",
    "pairs = create_pairs(parent_alphabet, child_alphabets)\n",
    "print(pairs)"
   ]
  },
  {
   "cell_type": "code",
   "execution_count": 46,
   "id": "71f6cac7-5457-4ac1-95bc-ac339c29b57a",
   "metadata": {
    "tags": []
   },
   "outputs": [],
   "source": [
    "CLOSE = []"
   ]
  },
  {
   "cell_type": "code",
   "execution_count": 18,
   "id": "a00a9dcb-3d51-4741-a139-984224d15deb",
   "metadata": {
    "tags": []
   },
   "outputs": [
    {
     "data": {
      "text/plain": [
       "True"
      ]
     },
     "execution_count": 18,
     "metadata": {},
     "output_type": "execute_result"
    }
   ],
   "source": [
    "def goaltest(pair):\n",
    "    goal = 'G'\n",
    "    if (pair[0]==goal):\n",
    "        return True\n",
    "    else :\n",
    "        return False\n",
    "    \n",
    "goaltest(['G', 'A'])"
   ]
  },
  {
   "cell_type": "code",
   "execution_count": 51,
   "id": "af6c94e6-58c2-4b5b-a25b-84852339ade6",
   "metadata": {
    "tags": []
   },
   "outputs": [
    {
     "name": "stdout",
     "output_type": "stream",
     "text": [
      "3\n",
      "[['D', 'S'], ['B', 'S'], ['A', 'S']]\n",
      "None\n",
      "[['A', 'S'], ['S', None]]\n"
     ]
    }
   ],
   "source": [
    "# Start \n",
    "\n",
    "OPEN.clear()\n",
    "CLOSE = []\n",
    "# print(OPEN.size())\n",
    "start = ['S',None]\n",
    "parent = start[0]\n",
    "\n",
    "OPEN.push(start)\n",
    "\n",
    "# CLOSE.insert(0,['S',None])\n",
    "\n",
    "while(OPEN.size()>0):\n",
    "    \n",
    "    # do goal test \n",
    "    if (goaltest(OPEN.peek())) :\n",
    "        print(\"Goal found\")\n",
    "        break\n",
    "    else :\n",
    "    \n",
    "        # get children and create pairs and insert into OPEN\n",
    "        children = movegen(OPEN.peek())\n",
    "        children = create_pairs(parent,children)\n",
    "        CLOSE.insert(0,OPEN.pop(0))\n",
    "  \n",
    "        # add children to stack\n",
    "        pushed = [OPEN.push(child) for child in children]\n",
    "\n",
    "    \n",
    "print(OPEN.size())\n",
    "print(OPEN.show())\n",
    "print(CLOSE)\n",
    "    \n",
    "        \n",
    "    "
   ]
  },
  {
   "cell_type": "code",
   "execution_count": 39,
   "id": "e58fa35f-e58f-4cf6-87a7-ffa27656c993",
   "metadata": {
    "tags": []
   },
   "outputs": [
    {
     "name": "stdout",
     "output_type": "stream",
     "text": [
      "['A', 'S']\n"
     ]
    }
   ],
   "source": [
    "print(OPEN.pop())"
   ]
  },
  {
   "cell_type": "code",
   "execution_count": null,
   "id": "a09b5267-54d0-4b79-9232-48be5d9a4578",
   "metadata": {},
   "outputs": [],
   "source": [
    "x = [['D', 'S'], ['B', 'S'], ['A', 'S']]\n",
    "print(x."
   ]
  }
 ],
 "metadata": {
  "kernelspec": {
   "display_name": "Python 3 (Spyder)",
   "language": "python3",
   "name": "python3"
  },
  "language_info": {
   "codemirror_mode": {
    "name": "ipython",
    "version": 3
   },
   "file_extension": ".py",
   "mimetype": "text/x-python",
   "name": "python",
   "nbconvert_exporter": "python",
   "pygments_lexer": "ipython3",
   "version": "3.11.3"
  }
 },
 "nbformat": 4,
 "nbformat_minor": 5
}
