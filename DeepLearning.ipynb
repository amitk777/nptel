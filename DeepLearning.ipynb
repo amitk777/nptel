{
 "cells": [
  {
   "cell_type": "code",
   "execution_count": 11,
   "metadata": {
    "tags": []
   },
   "outputs": [],
   "source": [
    "import torch\n",
    "\n",
    "x = [-10,0,10,100,100]\n",
    "\n"
   ]
  },
  {
   "cell_type": "code",
   "execution_count": 10,
   "metadata": {
    "tags": []
   },
   "outputs": [
    {
     "name": "stdout",
     "output_type": "stream",
     "text": [
      "Log base 2 of 1 is -0.0\n",
      "0.0\n"
     ]
    }
   ],
   "source": [
    "import math\n",
    "\n",
    "#Actual probability\n",
    "x = 1\n",
    "# predicted probablity\n",
    "p = 1\n",
    "\n",
    "log_base_2 = -x*(math.log2(p))\n",
    "print(f\"Log base 2 of {x} is {log_base_2}\")\n",
    "\n",
    "print(math.log2(1))\n"
   ]
  },
  {
   "cell_type": "code",
   "execution_count": 2,
   "metadata": {},
   "outputs": [],
   "source": [
    "import numpy as np\n",
    "\n",
    "class Perceptron :\n",
    "    def __init__(self,weights,bias) :\n",
    "        # self.inputs = inputs\n",
    "        self.bias = bias\n",
    "        self.weights = weights\n",
    "    \n",
    "        # print(self.weights,self.bias,self.theta)\n",
    "        \n",
    "\n",
    "    # def __forward__(self) :\n",
    "    #     output = self.inputs@self.weights.transpos()\n",
    "    #     return output\n",
    "    def forward(self,inputs,labels,epochs) :\n",
    "        \n",
    "        angle = 0\n",
    "        \n",
    "        for i in range(epochs) :\n",
    "        \n",
    "            for j in range(len(labels)) :\n",
    "                \n",
    "                print(f\"Label {j} Inputs {inputs[j]} Weights {self.weights}\")\n",
    "                print(f\"angle{np.matmul(self.weights,inputs[j])}\")\n",
    "                \n",
    "                # What is meaning when matmul is <0 ?\n",
    "                # it means the the angle is negative or greater than 90 degrees\n",
    "                # if for a data point if the label is 1 and matmul is <0  then weights are to be changed \n",
    "                # or else if label is zero and angle is positive then it must changes because angle \n",
    "                # should be greater than 180 degrees. then weights should be updated\n",
    "                \n",
    "                angle = np.matmul(self.weights,inputs[j])\n",
    "                label = labels[j]\n",
    "                \n",
    "                if ((label == 1) and (angle < 0)) :\n",
    "                    self.weights = self.weights + inputs[j]\n",
    "                    print(f\"Weights Increased\")\n",
    "                if ((label == -1) and (angle >= 0)) :\n",
    "                    self.weights = self.weights - inputs[j]\n",
    "                    print(f\"Weights decreased\") \n",
    "            \n",
    "            # Calculate Accuracy\n",
    "            \n",
    "            # print(f\"Weights : {self.weights}\")\n",
    "            results = accuracy(inputs,self.weights,labels)\n",
    "            print(f\"Accuracy : {results}\")\n",
    "            if (results == 1) :\n",
    "                break\n"
   ]
  },
  {
   "cell_type": "code",
   "execution_count": 3,
   "metadata": {},
   "outputs": [],
   "source": [
    "def accuracy(inputs,weights,labels) :\n",
    "    corrects = 0\n",
    "    for i in range(len(labels)) :\n",
    "        if(labels[i] == np.matmul(weights,inputs[i])) :\n",
    "            corrects = corrects + 1\n",
    "    # print(f\"Corrects {corrects}\")\n",
    "    return (corrects/len(labels))"
   ]
  },
  {
   "cell_type": "code",
   "execution_count": 4,
   "metadata": {},
   "outputs": [
    {
     "name": "stdout",
     "output_type": "stream",
     "text": [
      "Label 0 Inputs [0 1] Weights [0 0]\n",
      "angle0\n",
      "Weights decreased\n",
      "Label 1 Inputs [-1 -1] Weights [ 0 -1]\n",
      "angle1\n",
      "Label 2 Inputs [2 3] Weights [ 0 -1]\n",
      "angle-3\n",
      "Label 3 Inputs [ 4 -5] Weights [ 0 -1]\n",
      "angle5\n",
      "Accuracy : 0.5\n",
      "Label 0 Inputs [0 1] Weights [ 0 -1]\n",
      "angle-1\n",
      "Label 1 Inputs [-1 -1] Weights [ 0 -1]\n",
      "angle1\n",
      "Label 2 Inputs [2 3] Weights [ 0 -1]\n",
      "angle-3\n",
      "Label 3 Inputs [ 4 -5] Weights [ 0 -1]\n",
      "angle5\n",
      "Accuracy : 0.5\n",
      "Label 0 Inputs [0 1] Weights [ 0 -1]\n",
      "angle-1\n",
      "Label 1 Inputs [-1 -1] Weights [ 0 -1]\n",
      "angle1\n",
      "Label 2 Inputs [2 3] Weights [ 0 -1]\n",
      "angle-3\n",
      "Label 3 Inputs [ 4 -5] Weights [ 0 -1]\n",
      "angle5\n",
      "Accuracy : 0.5\n"
     ]
    }
   ],
   "source": [
    "inputs = np.array([[0,1],[-1,-1],[2,3],[4,-5]])\n",
    "labels = np.array([-1,1,-1,1])\n",
    "weights = np.array([0,0])\n",
    "p = Perceptron(weights,1)\n",
    "p.forward(inputs,labels,3)"
   ]
  },
  {
   "cell_type": "code",
   "execution_count": null,
   "metadata": {
    "editable": true,
    "slideshow": {
     "slide_type": ""
    },
    "tags": []
   },
   "outputs": [],
   "source": [
    "class MP_neuron :\n",
    "    def __init__(self,threshold):\n",
    "        self.threshold = threshold\n",
    "\n",
    "    def step(self,x) :\n",
    "        if(x.sum()>=self.threshold) :\n",
    "            return True \n",
    "        else :\n",
    "            return False\n",
    "    "
   ]
  },
  {
   "cell_type": "code",
   "execution_count": null,
   "metadata": {},
   "outputs": [],
   "source": [
    "import matplotlib.pyplot as plt\n",
    "from mpl_toolkits import mplot3d\n",
    "fig = plt.figure(figsize=(9, 6))\n",
    "ax = plt.axes(projection='3d')\n",
    "\n",
    "ax.set_title(\"3D scatterplot\", pad=25, size=15)\n",
    "ax.set_xlabel(\"City\") \n",
    "ax.set_ylabel(\"Temperature\") \n",
    "ax.set_zlabel(\"Humidity\")\n",
    "\n",
    "x = [1,1,1,5]\n",
    "y = [25,20,30,-28]\n",
    "z = [50,60,40,45]\n",
    "\n",
    "ax.scatter3D(x, y, z, color='red')"
   ]
  },
  {
   "cell_type": "code",
   "execution_count": null,
   "metadata": {},
   "outputs": [],
   "source": [
    "import numpy as np\n",
    "mp = MP_neuron(3)\n",
    "inputs = np.array([1,2,3])\n",
    "mp.step(inputs)"
   ]
  },
  {
   "cell_type": "code",
   "execution_count": null,
   "metadata": {},
   "outputs": [],
   "source": [
    "import numpy as np\n",
    "\n",
    "x = np.array([[1,2,0],[3,1,-4]])\n",
    "print(x)\n",
    "print(x.transpose())\n",
    "print(np.matmul(x.transpose(),x))   \n",
    "\n",
    "y = x.transpose()\n",
    "print(x*y)"
   ]
  },
  {
   "cell_type": "code",
   "execution_count": null,
   "metadata": {},
   "outputs": [],
   "source": [
    "import torch\n",
    "\n",
    "a = torch.tensor([[1,2],[4,-3]])\n",
    "\n",
    "p = a@a\n",
    "\n",
    "print(p+(2*a))\n",
    "\n",
    "print(a@a+2*a-11)"
   ]
  },
  {
   "cell_type": "code",
   "execution_count": 1,
   "metadata": {},
   "outputs": [
    {
     "name": "stdout",
     "output_type": "stream",
     "text": [
      "Epoch [100/1000], Loss: 0.0996\n",
      "Epoch [200/1000], Loss: 0.0591\n",
      "Epoch [300/1000], Loss: 0.0457\n",
      "Epoch [400/1000], Loss: 0.0360\n",
      "Epoch [500/1000], Loss: 0.0289\n",
      "Epoch [600/1000], Loss: 0.0235\n",
      "Epoch [700/1000], Loss: 0.0196\n",
      "Epoch [800/1000], Loss: 0.0166\n",
      "Epoch [900/1000], Loss: 0.0145\n",
      "Epoch [1000/1000], Loss: 0.0128\n",
      "Trained parameters:\n",
      "linear.weight tensor([[1.7245]])\n",
      "linear.bias tensor([1.1410])\n"
     ]
    }
   ],
   "source": [
    "import torch\n",
    "import torch.nn as nn\n",
    "import torch.optim as optim\n",
    "import numpy as np\n",
    "\n",
    "# Generate some synthetic data\n",
    "np.random.seed(42)\n",
    "X = np.random.rand(100, 1)\n",
    "y = 2 * X + 1 + 0.1 * np.random.randn(100, 1)\n",
    "\n",
    "# Convert data to PyTorch tensors\n",
    "X_tensor = torch.tensor(X, dtype=torch.float32)\n",
    "y_tensor = torch.tensor(y, dtype=torch.float32)\n",
    "\n",
    "# Define a simple linear regression model\n",
    "class LinearRegression(nn.Module):\n",
    "    def __init__(self):\n",
    "        super(LinearRegression, self).__init__()\n",
    "        self.linear = nn.Linear(1, 1)  # One input feature, one output\n",
    "    \n",
    "    def forward(self, x):\n",
    "        return self.linear(x)\n",
    "\n",
    "# Instantiate the model\n",
    "model = LinearRegression()\n",
    "\n",
    "# Define the loss function (mean squared error)\n",
    "criterion = nn.MSELoss()\n",
    "\n",
    "# Define the optimizer (Adagrad)\n",
    "optimizer = optim.Adagrad(model.parameters(), lr=0.1)\n",
    "\n",
    "# Training loop\n",
    "num_epochs = 1000\n",
    "for epoch in range(num_epochs):\n",
    "    # Forward pass\n",
    "    outputs = model(X_tensor)\n",
    "    loss = criterion(outputs, y_tensor)\n",
    "    \n",
    "    # Backpropagation and optimization\n",
    "    optimizer.zero_grad()\n",
    "    loss.backward()\n",
    "    optimizer.step()\n",
    "    \n",
    "    if (epoch+1) % 100 == 0:\n",
    "        print(f'Epoch [{epoch+1}/{num_epochs}], Loss: {loss.item():.4f}')\n",
    "\n",
    "# Print the trained parameters\n",
    "with torch.no_grad():\n",
    "    print(\"Trained parameters:\")\n",
    "    for name, param in model.named_parameters():\n",
    "        if param.requires_grad:\n",
    "            print(name, param.data)\n"
   ]
  }
 ],
 "metadata": {
  "kernelspec": {
   "display_name": "Python 3 (Spyder)",
   "language": "python3",
   "name": "python3"
  },
  "language_info": {
   "codemirror_mode": {
    "name": "ipython",
    "version": 3
   },
   "file_extension": ".py",
   "mimetype": "text/x-python",
   "name": "python",
   "nbconvert_exporter": "python",
   "pygments_lexer": "ipython3",
   "version": "3.11.3"
  }
 },
 "nbformat": 4,
 "nbformat_minor": 4
}
