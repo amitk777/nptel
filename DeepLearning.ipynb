{
 "cells": [
  {
   "cell_type": "code",
   "execution_count": 7,
   "metadata": {},
   "outputs": [],
   "source": [
    "import numpy as np\n",
    "\n",
    "class Perceptron :\n",
    "    def __init__(self,weights,bias) :\n",
    "        # self.inputs = inputs\n",
    "        self.bias = bias\n",
    "        self.weights = weights\n",
    "    \n",
    "        # print(self.weights,self.bias,self.theta)\n",
    "        \n",
    "\n",
    "    # def __forward__(self) :\n",
    "    #     output = self.inputs@self.weights.transpos()\n",
    "    #     return output\n",
    "    def forward(self,inputs,labels,epochs) :\n",
    "        \n",
    "        angle = 0\n",
    "        \n",
    "        for i in range(epochs) :\n",
    "        \n",
    "            for j in range(len(labels)) :\n",
    "                \n",
    "                print(f\"Label {j} Inputs {inputs[j]} Weights {self.weights}\")\n",
    "                print(f\"angle{np.matmul(self.weights,inputs[j])}\")\n",
    "                \n",
    "                # What is meaning when matmul is <0 ?\n",
    "                # it means the the angle is negative or greater than 90 degrees\n",
    "                # if for a data point if the label is 1 and matmul is <0  then weights are to be changed \n",
    "                # or else if label is zero and angle is positive then it must changes because angle \n",
    "                # should be greater than 180 degrees. then weights should be updated\n",
    "                \n",
    "                angle = np.matmul(self.weights,inputs[j])\n",
    "                label = labels[j]\n",
    "                \n",
    "                if ((label == 1) and (angle < 0)) :\n",
    "                    self.weights = self.weights + inputs[j]\n",
    "                    print(f\"Weights Increased\")\n",
    "                if ((label == -1) and (angle >= 0)) :\n",
    "                    self.weights = self.weights - inputs[j]\n",
    "                    print(f\"Weights decreased\") \n",
    "            \n",
    "            # Calculate Accuracy\n",
    "            \n",
    "            # print(f\"Weights : {self.weights}\")\n",
    "            results = accuracy(inputs,self.weights,labels)\n",
    "            print(f\"Accuracy : {results}\")\n",
    "            if (results == 1) :\n",
    "                break\n"
   ]
  },
  {
   "cell_type": "code",
   "execution_count": 2,
   "metadata": {},
   "outputs": [],
   "source": [
    "def accuracy(inputs,weights,labels) :\n",
    "    corrects = 0\n",
    "    for i in range(len(labels)) :\n",
    "        if(labels[i] == np.matmul(weights,inputs[i])) :\n",
    "            corrects = corrects + 1\n",
    "    # print(f\"Corrects {corrects}\")\n",
    "    return (corrects/len(labels))"
   ]
  },
  {
   "cell_type": "code",
   "execution_count": 8,
   "metadata": {},
   "outputs": [
    {
     "name": "stdout",
     "output_type": "stream",
     "text": [
      "Label 0 Inputs [0 1] Weights [0 0]\n",
      "angle0\n",
      "Weights decreased\n",
      "Label 1 Inputs [-1 -1] Weights [ 0 -1]\n",
      "angle1\n",
      "Label 2 Inputs [2 3] Weights [ 0 -1]\n",
      "angle-3\n",
      "Label 3 Inputs [ 4 -5] Weights [ 0 -1]\n",
      "angle5\n",
      "Accuracy : 0.5\n",
      "Label 0 Inputs [0 1] Weights [ 0 -1]\n",
      "angle-1\n",
      "Label 1 Inputs [-1 -1] Weights [ 0 -1]\n",
      "angle1\n",
      "Label 2 Inputs [2 3] Weights [ 0 -1]\n",
      "angle-3\n",
      "Label 3 Inputs [ 4 -5] Weights [ 0 -1]\n",
      "angle5\n",
      "Accuracy : 0.5\n",
      "Label 0 Inputs [0 1] Weights [ 0 -1]\n",
      "angle-1\n",
      "Label 1 Inputs [-1 -1] Weights [ 0 -1]\n",
      "angle1\n",
      "Label 2 Inputs [2 3] Weights [ 0 -1]\n",
      "angle-3\n",
      "Label 3 Inputs [ 4 -5] Weights [ 0 -1]\n",
      "angle5\n",
      "Accuracy : 0.5\n"
     ]
    }
   ],
   "source": [
    "inputs = np.array([[0,1],[-1,-1],[2,3],[4,-5]])\n",
    "labels = np.array([-1,1,-1,1])\n",
    "weights = np.array([0,0])\n",
    "p = Perceptron(weights,1)\n",
    "p.forward(inputs,labels,3)"
   ]
  },
  {
   "cell_type": "code",
   "execution_count": null,
   "metadata": {
    "editable": true,
    "slideshow": {
     "slide_type": ""
    },
    "tags": []
   },
   "outputs": [],
   "source": [
    "class MP_neuron :\n",
    "    def __init__(self,threshold):\n",
    "        self.threshold = threshold\n",
    "\n",
    "    def step(self,x) :\n",
    "        if(x.sum()>=self.threshold) :\n",
    "            return True \n",
    "        else :\n",
    "            return False\n",
    "    "
   ]
  },
  {
   "cell_type": "code",
   "execution_count": null,
   "metadata": {},
   "outputs": [],
   "source": [
    "import matplotlib.pyplot as plt\n",
    "from mpl_toolkits import mplot3d\n",
    "fig = plt.figure(figsize=(9, 6))\n",
    "ax = plt.axes(projection='3d')\n",
    "\n",
    "ax.set_title(\"3D scatterplot\", pad=25, size=15)\n",
    "ax.set_xlabel(\"City\") \n",
    "ax.set_ylabel(\"Temperature\") \n",
    "ax.set_zlabel(\"Humidity\")\n",
    "\n",
    "x = [1,1,1,5]\n",
    "y = [25,20,30,-28]\n",
    "z = [50,60,40,45]\n",
    "\n",
    "ax.scatter3D(x, y, z, color='red')"
   ]
  },
  {
   "cell_type": "code",
   "execution_count": null,
   "metadata": {},
   "outputs": [],
   "source": [
    "import numpy as np\n",
    "mp = MP_neuron(3)\n",
    "inputs = np.array([1,2,3])\n",
    "mp.step(inputs)"
   ]
  },
  {
   "cell_type": "code",
   "execution_count": null,
   "metadata": {},
   "outputs": [],
   "source": [
    "import numpy as np\n",
    "\n",
    "x = np.array([[1,2,0],[3,1,-4]])\n",
    "print(x)\n",
    "print(x.transpose())\n",
    "print(np.matmul(x.transpose(),x))   \n",
    "\n",
    "y = x.transpose()\n",
    "print(x*y)"
   ]
  },
  {
   "cell_type": "code",
   "execution_count": null,
   "metadata": {},
   "outputs": [],
   "source": [
    "import torch\n",
    "\n",
    "a = torch.tensor([[1,2],[4,-3]])\n",
    "\n",
    "p = a@a\n",
    "\n",
    "print(p+(2*a))\n",
    "\n",
    "print(a@a+2*a-11)"
   ]
  }
 ],
 "metadata": {
  "kernelspec": {
   "display_name": "Python 3 (ipykernel)",
   "language": "python",
   "name": "python3"
  },
  "language_info": {
   "codemirror_mode": {
    "name": "ipython",
    "version": 3
   },
   "file_extension": ".py",
   "mimetype": "text/x-python",
   "name": "python",
   "nbconvert_exporter": "python",
   "pygments_lexer": "ipython3",
   "version": "3.11.4"
  }
 },
 "nbformat": 4,
 "nbformat_minor": 4
}
