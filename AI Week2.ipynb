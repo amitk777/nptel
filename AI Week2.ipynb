{
 "cells": [
  {
   "cell_type": "code",
   "execution_count": 34,
   "id": "f0345d9b-55a5-43d6-93a4-8c32ea24a4f0",
   "metadata": {
    "tags": []
   },
   "outputs": [
    {
     "name": "stdout",
     "output_type": "stream",
     "text": [
      "Open queuue ['S']\n",
      "visiting node S\n",
      "Open queuue ['A', 'B', 'C']\n",
      "visiting node A\n",
      "Open queuue ['D', 'H', 'B', 'C']\n",
      "visiting node D\n",
      "Open queuue ['E', 'H', 'B', 'C']\n",
      "visiting node E\n",
      "Open queuue ['H', 'B', 'C']\n",
      "visiting node H\n",
      "Open queuue ['J', 'N', 'B', 'C']\n",
      "visiting node J\n",
      "Open queuue ['I', 'N', 'B', 'C']\n",
      "visiting node I\n",
      "Open queuue ['L', 'F', 'N', 'B', 'C']\n",
      "visiting node L\n",
      "Open queuue ['G', 'K', 'O', 'F', 'N', 'B', 'C']\n",
      "visiting node G\n",
      "Path from S to G: S -> A -> H -> J -> I -> L -> G\n"
     ]
    }
   ],
   "source": [
    "def dfs(graph, start_node, goal_node):\n",
    "    open_queue = [start_node]  # Open queue for nodes to be visited\n",
    "    closed_queue = []       # Closed queue for visited nodes\n",
    "    parent_map = {}            # Store parent nodes to reconstruct the path\n",
    "    temp = []\n",
    "\n",
    "    while open_queue:\n",
    "        print('Open queuue', open_queue)\n",
    "        current_node = open_queue.pop(0)\n",
    "        print(\"visiting node\",current_node)\n",
    "        \n",
    "        if current_node == goal_node:\n",
    "            path = []\n",
    "            while current_node is not None:\n",
    "                path.insert(0, current_node)\n",
    "                current_node = parent_map.get(current_node)\n",
    "            return path\n",
    "        \n",
    "        if current_node not in closed_queue:\n",
    "            closed_queue.insert(0,current_node)\n",
    "            temp = []\n",
    "            for neighbor in graph[current_node]:\n",
    "\n",
    "                if neighbor not in open_queue and neighbor not in closed_queue:\n",
    "                    x = neighbor\n",
    "                    temp.append(neighbor)\n",
    "                    parent_map[neighbor] = current_node\n",
    "            open_queue = temp + open_queue\n",
    "\n",
    "    return None  # No path found\n",
    "\n",
    "# Sample graph represented as an adjacency list\n",
    "graph = {\n",
    "    'S': ['A', 'B', 'C'],\n",
    "    'A': ['C', 'D', 'H'],\n",
    "    'B': ['C','E','F' ],\n",
    "    'C': ['B','D','E'],\n",
    "    'D': ['A','E'],\n",
    "    'E': ['B','D'],\n",
    "    'F': ['I','K','M'],\n",
    "    'I': ['L','F'],\n",
    "    'H': ['J','N'],\n",
    "    'J': ['I','N'],\n",
    "    'K': ['F','M','L'],\n",
    "    'L': ['G','I','K','O'],\n",
    "    'M': ['F','K','O'],\n",
    "    'N': ['H','J','G'],\n",
    "    'O': ['L','G'],\n",
    "    'G': []\n",
    "}\n",
    "\n",
    "start_node = 'S'\n",
    "goal_node = 'G'\n",
    "\n",
    "path_to_goal = dfs(graph, start_node, goal_node)\n",
    "\n",
    "if path_to_goal:\n",
    "    print(f\"Path from {start_node} to {goal_node}: {' -> '.join(path_to_goal)}\")\n",
    "else:\n",
    "    print(f\"No path from {start_node} to {goal_node}\")\n"
   ]
  },
  {
   "cell_type": "markdown",
   "id": "fcdbbd21-313a-4268-8b40-ca0fdd3eb41c",
   "metadata": {},
   "source": [
    "# Breadth first search"
   ]
  },
  {
   "cell_type": "code",
   "execution_count": 4,
   "id": "bc8d635b-bb83-418a-9455-f69b0a5d446b",
   "metadata": {
    "tags": []
   },
   "outputs": [
    {
     "ename": "NameError",
     "evalue": "name 'dfs' is not defined",
     "output_type": "error",
     "traceback": [
      "\u001b[0;31m---------------------------------------------------------------------------\u001b[0m",
      "\u001b[0;31mNameError\u001b[0m                                 Traceback (most recent call last)",
      "Cell \u001b[0;32mIn[4], line 55\u001b[0m\n\u001b[1;32m     52\u001b[0m start_node \u001b[38;5;241m=\u001b[39m \u001b[38;5;124m'\u001b[39m\u001b[38;5;124mS\u001b[39m\u001b[38;5;124m'\u001b[39m\n\u001b[1;32m     53\u001b[0m goal_node \u001b[38;5;241m=\u001b[39m \u001b[38;5;124m'\u001b[39m\u001b[38;5;124mG\u001b[39m\u001b[38;5;124m'\u001b[39m\n\u001b[0;32m---> 55\u001b[0m path_to_goal \u001b[38;5;241m=\u001b[39m dfs(graph, start_node, goal_node)\n\u001b[1;32m     57\u001b[0m \u001b[38;5;28;01mif\u001b[39;00m path_to_goal:\n\u001b[1;32m     58\u001b[0m     \u001b[38;5;28mprint\u001b[39m(\u001b[38;5;124mf\u001b[39m\u001b[38;5;124m\"\u001b[39m\u001b[38;5;124mPath from \u001b[39m\u001b[38;5;132;01m{\u001b[39;00mstart_node\u001b[38;5;132;01m}\u001b[39;00m\u001b[38;5;124m to \u001b[39m\u001b[38;5;132;01m{\u001b[39;00mgoal_node\u001b[38;5;132;01m}\u001b[39;00m\u001b[38;5;124m: \u001b[39m\u001b[38;5;132;01m{\u001b[39;00m\u001b[38;5;124m'\u001b[39m\u001b[38;5;124m -> \u001b[39m\u001b[38;5;124m'\u001b[39m\u001b[38;5;241m.\u001b[39mjoin(path_to_goal)\u001b[38;5;132;01m}\u001b[39;00m\u001b[38;5;124m\"\u001b[39m)\n",
      "\u001b[0;31mNameError\u001b[0m: name 'dfs' is not defined"
     ]
    }
   ],
   "source": [
    "def bfs(graph, start_node, goal_node):\n",
    "    open_queue = [start_node]  # Open queue for nodes to be visited\n",
    "    closed_queue = []       # Closed queue for visited nodes\n",
    "    parent_map = {}            # Store parent nodes to reconstruct the path\n",
    "    temp = []\n",
    "\n",
    "    while open_queue:\n",
    "        print('Open queuue', open_queue)\n",
    "        current_node = open_queue.pop(0)\n",
    "        print(\"visiting node\",current_node)\n",
    "        \n",
    "        if current_node == goal_node:\n",
    "            path = []\n",
    "            while current_node is not None:\n",
    "                path.insert(0, current_node)\n",
    "                current_node = parent_map.get(current_node)\n",
    "            return path\n",
    "        \n",
    "        if current_node not in closed_queue:\n",
    "            closed_queue.insert(0,current_node)\n",
    "            temp = []\n",
    "            for neighbor in graph[current_node]:\n",
    "\n",
    "                if neighbor not in open_queue and neighbor not in closed_queue:\n",
    "                    x = neighbor\n",
    "                    temp.append(neighbor)\n",
    "                    parent_map[neighbor] = current_node\n",
    "            open_queue = open_queue.append(temp)\n",
    "\n",
    "    return None  # No path found\n",
    "\n",
    "# Sample graph represented as an adjacency list\n",
    "graph = {\n",
    "    'S': ['A', 'B', 'C'],\n",
    "    'A': ['C', 'D', 'H'],\n",
    "    'B': ['C','E','F' ],\n",
    "    'C': ['B','D','E'],\n",
    "    'D': ['A','E'],\n",
    "    'E': ['B','D'],\n",
    "    'F': ['I','K','M'],\n",
    "    'I': ['L','F'],\n",
    "    'H': ['J','N'],\n",
    "    'J': ['I','N'],\n",
    "    'K': ['F','M','L'],\n",
    "    'L': ['G','I','K','O'],\n",
    "    'M': ['F','K','O'],\n",
    "    'N': ['H','J','G'],\n",
    "    'O': ['L','G'],\n",
    "    'G': []\n",
    "}\n",
    "\n",
    "start_node = 'S'\n",
    "goal_node = 'G'\n",
    "\n",
    "path_to_goal = dfs(graph, start_node, goal_node)\n",
    "\n",
    "if path_to_goal:\n",
    "    print(f\"Path from {start_node} to {goal_node}: {' -> '.join(path_to_goal)}\")\n",
    "else:\n",
    "    print(f\"No path from {start_node} to {goal_node}\")\n"
   ]
  },
  {
   "cell_type": "code",
   "execution_count": 19,
   "id": "d963441a-fe86-4d41-8ab7-523a68943008",
   "metadata": {
    "tags": []
   },
   "outputs": [
    {
     "name": "stdout",
     "output_type": "stream",
     "text": [
      "A\n",
      "B\n",
      "C\n"
     ]
    }
   ],
   "source": [
    "for neighbor in graph['S']:\n",
    "    print(neighbor)"
   ]
  },
  {
   "cell_type": "code",
   "execution_count": 20,
   "id": "3bd89ce0-1b16-460d-b0d9-0ca3f701c938",
   "metadata": {},
   "outputs": [
    {
     "data": {
      "text/plain": [
       "['A', 'B', 'D']"
      ]
     },
     "execution_count": 20,
     "metadata": {},
     "output_type": "execute_result"
    }
   ],
   "source": [
    "# Create a dictionary with 11 elements, each pointing to an array of 3 capital alphabet variables\n",
    "\n",
    "def movegen(node):\n",
    "    graph = {\n",
    "        'S': ['A', 'B', 'D'],\n",
    "        'A': ['C', 'B', 'S'],\n",
    "        'B': ['S', 'A', 'C'],\n",
    "        'C': ['B', 'A'],\n",
    "        'D': ['S', 'G'],\n",
    "        'G': ['D']\n",
    "    }\n",
    "    \n",
    "    return graph[node[0]]\n",
    "\n",
    "node = ['S',None]\n",
    "\n",
    "movegen(node)\n"
   ]
  },
  {
   "cell_type": "code",
   "execution_count": 53,
   "id": "9acfd68c-c802-426f-be0f-0fa384be1f7e",
   "metadata": {
    "tags": []
   },
   "outputs": [],
   "source": [
    "class open:\n",
    "    def __init__(self):\n",
    "        self.items = []\n",
    "        self.visited = []\n",
    "\n",
    "    def is_empty(self):\n",
    "        return len(self.items) == 0\n",
    "\n",
    "    def push(self, item):\n",
    "        if item not in self.items:  # Check if item is not already in the stack\n",
    "            # self.items.append(item)\n",
    "            self.items.insert(0,item)\n",
    "            self.visited.insert(0,item[0])\n",
    "\n",
    "    def pop(self):\n",
    "        if not self.is_empty():\n",
    "            return self.items.pop()\n",
    "        else:\n",
    "            raise Exception(\"Stack is empty\")\n",
    "\n",
    "    def peek(self):\n",
    "        if not self.is_empty():\n",
    "            return self.items[-1]\n",
    "        else:\n",
    "            raise Exception(\"Stack is empty\")\n",
    "\n",
    "    def size(self):\n",
    "        return len(self.items)\n",
    "    \n",
    "    def clear(self):\n",
    "        self.items = []\n",
    "        self.visited = []\n",
    "        \n",
    "    def show(self):\n",
    "        print(self.items)\n",
    "        \n",
    "    def visited(self):\n",
    "        return self.visited\n",
    "    \n",
    "    def check_visited(self,target):\n",
    "        return target in self.visited\n",
    "\n",
    "\n",
    "# Create a stack\n",
    "OPEN = open()\n",
    "OPEN.clear()\n",
    "\n",
    "\n"
   ]
  },
  {
   "cell_type": "code",
   "execution_count": 12,
   "id": "a4797e36-e799-433c-9c34-a3c0ab03722e",
   "metadata": {
    "tags": []
   },
   "outputs": [
    {
     "name": "stdout",
     "output_type": "stream",
     "text": [
      "[['B', 'A'], ['C', 'A'], ['D', 'A'], ['E', 'A']]\n"
     ]
    }
   ],
   "source": [
    "def create_pairs(parent, children):\n",
    "    pairs = [[child, parent] for child in children]\n",
    "    return pairs\n",
    "\n",
    "# Example usage\n",
    "parent_alphabet = 'A'\n",
    "child_alphabets = ['B', 'C', 'D', 'E']\n",
    "\n",
    "pairs = create_pairs(parent_alphabet, child_alphabets)\n",
    "print(pairs)"
   ]
  },
  {
   "cell_type": "code",
   "execution_count": 46,
   "id": "71f6cac7-5457-4ac1-95bc-ac339c29b57a",
   "metadata": {
    "tags": []
   },
   "outputs": [],
   "source": [
    "CLOSE = []"
   ]
  },
  {
   "cell_type": "code",
   "execution_count": 18,
   "id": "a00a9dcb-3d51-4741-a139-984224d15deb",
   "metadata": {
    "tags": []
   },
   "outputs": [
    {
     "data": {
      "text/plain": [
       "True"
      ]
     },
     "execution_count": 18,
     "metadata": {},
     "output_type": "execute_result"
    }
   ],
   "source": [
    "def goaltest(pair):\n",
    "    goal = 'G'\n",
    "    if (pair[0]==goal):\n",
    "        return True\n",
    "    else :\n",
    "        return False\n",
    "    \n",
    "goaltest(['G', 'A'])"
   ]
  },
  {
   "cell_type": "code",
   "execution_count": 51,
   "id": "af6c94e6-58c2-4b5b-a25b-84852339ade6",
   "metadata": {
    "tags": []
   },
   "outputs": [
    {
     "name": "stdout",
     "output_type": "stream",
     "text": [
      "3\n",
      "[['D', 'S'], ['B', 'S'], ['A', 'S']]\n",
      "None\n",
      "[['A', 'S'], ['S', None]]\n"
     ]
    }
   ],
   "source": [
    "# Start \n",
    "\n",
    "OPEN.clear()\n",
    "CLOSE = []\n",
    "# print(OPEN.size())\n",
    "start = ['S',None]\n",
    "parent = start[0]\n",
    "\n",
    "OPEN.push(start)\n",
    "\n",
    "# CLOSE.insert(0,['S',None])\n",
    "\n",
    "while(OPEN.size()>0):\n",
    "    \n",
    "    # do goal test \n",
    "    if (goaltest(OPEN.peek())) :\n",
    "        print(\"Goal found\")\n",
    "        break\n",
    "    else :\n",
    "    \n",
    "        # get children and create pairs and insert into OPEN\n",
    "        children = movegen(OPEN.peek())\n",
    "        children = create_pairs(parent,children)\n",
    "        CLOSE.insert(0,OPEN.pop(0))\n",
    "  \n",
    "        # add children to stack\n",
    "        pushed = [OPEN.push(child) for child in children]\n",
    "\n",
    "    \n",
    "print(OPEN.size())\n",
    "print(OPEN.show())\n",
    "print(CLOSE)\n",
    "    \n",
    "        \n",
    "    "
   ]
  },
  {
   "cell_type": "code",
   "execution_count": 39,
   "id": "e58fa35f-e58f-4cf6-87a7-ffa27656c993",
   "metadata": {
    "tags": []
   },
   "outputs": [
    {
     "name": "stdout",
     "output_type": "stream",
     "text": [
      "['A', 'S']\n"
     ]
    }
   ],
   "source": [
    "print(OPEN.pop())"
   ]
  },
  {
   "cell_type": "code",
   "execution_count": null,
   "id": "a09b5267-54d0-4b79-9232-48be5d9a4578",
   "metadata": {},
   "outputs": [],
   "source": [
    "x = [['D', 'S'], ['B', 'S'], ['A', 'S']]\n",
    "print(x."
   ]
  }
 ],
 "metadata": {
  "kernelspec": {
   "display_name": "Python 3 (ipykernel)",
   "language": "python",
   "name": "python3"
  },
  "language_info": {
   "codemirror_mode": {
    "name": "ipython",
    "version": 3
   },
   "file_extension": ".py",
   "mimetype": "text/x-python",
   "name": "python",
   "nbconvert_exporter": "python",
   "pygments_lexer": "ipython3",
   "version": "3.11.3"
  },
  "toc-showmarkdowntxt": true
 },
 "nbformat": 4,
 "nbformat_minor": 5
}
